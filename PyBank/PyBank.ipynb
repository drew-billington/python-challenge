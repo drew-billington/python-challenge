{
 "cells": [
  {
   "cell_type": "code",
   "execution_count": 193,
   "id": "b400bdde-5f60-467b-896c-f7696ddf8c91",
   "metadata": {},
   "outputs": [],
   "source": [
    "#dependencies\n",
    "import os\n",
    "import csv"
   ]
  },
  {
   "cell_type": "code",
   "execution_count": 195,
   "id": "e17e9cb4-7074-43df-b8c2-4fd229c29371",
   "metadata": {},
   "outputs": [
    {
     "name": "stdout",
     "output_type": "stream",
     "text": [
      "Financial Analysis\n",
      "-------------------------------------------------------\n",
      "Total Months: 86\n",
      "Total: $22564198\n",
      "Average Change: $-8311.11\n",
      "Greatest Increase in Profits:  Aug-16  $1862002\n",
      "Greatest Decrease in Profits:  Feb-14  $-1825558\n",
      "\n"
     ]
    }
   ],
   "source": [
    "#file load\n",
    "csvpath = os.path.join('.','Resources','budget_data.csv')\n",
    "\n",
    "total_months = 0\n",
    "total = 0\n",
    "\n",
    "net_change_list = []\n",
    "\n",
    "greatest = [\"\", 0]\n",
    "least = [\"\", 999999999]\n",
    "# print(greatest)\n",
    "# print(least)\n",
    "\n",
    "with open(csvpath) as csvfile:\n",
    "    csvreader = csv.reader(csvfile, delimiter=',')\n",
    "    #print(csvreader)\n",
    "\n",
    "    header = next(csvreader)\n",
    "    # print(f\"Header: {header}\")\n",
    "    first_row = next(csvreader)\n",
    "    total =+ int(first_row[1])\n",
    "    previous_net = int(first_row[1])\n",
    "\n",
    "    total_months += 1\n",
    "    \n",
    "    for row in csvreader:\n",
    "        # print(row)\n",
    "        total_months += 1\n",
    "        total += int(row[1])\n",
    "\n",
    "        #avg change\n",
    "        net_change = int(row[1]) - previous_net\n",
    "        previous_net = int(row[1])\n",
    "        net_change_list.append(net_change)\n",
    "        avg_change = round( sum(net_change_list) / len(net_change_list) , 2)\n",
    "#print(net_change_list)\n",
    "\n",
    "        #greatest increase\n",
    "        if(net_change)> greatest[1]:\n",
    "            greatest[0] = row[0]\n",
    "            greatest[1] = net_change\n",
    "            great_inc_profit = greatest[1]\n",
    "            great_inc_date = greatest[0]\n",
    "\n",
    "        #greatest decrease\n",
    "        if(net_change)< least[1]:\n",
    "            least[0] = row[0]\n",
    "            least[1] = net_change\n",
    "            great_dec_date = least[0]\n",
    "            great_dec_profit = least[1]\n",
    "\n",
    "#output = use variable 'output' with f strings; use '\\n' suffix within quotes to delineate next line...\n",
    "output = (\n",
    "f\"Financial Analysis\\n\"\n",
    "f\"-------------------------------------------------------\\n\"\n",
    "f\"Total Months: {total_months}\\n\"\n",
    "f\"Total: ${total}\\n\"\n",
    "f\"Average Change: ${avg_change}\\n\"\n",
    "f\"Greatest Increase in Profits:  {great_inc_date}  ${great_inc_profit}\\n\"\n",
    "f\"Greatest Decrease in Profits:  {great_dec_date}  ${great_dec_profit}\\n\" )\n",
    "\n",
    "print(output)"
   ]
  },
  {
   "cell_type": "code",
   "execution_count": 197,
   "id": "53460694-ca6a-4cd8-8615-8cdd0ac4ec78",
   "metadata": {},
   "outputs": [],
   "source": [
    "#export to file\n",
    "file_output = os.path.join(\".\",\"analysis\",\"budget_analysis.txt\")\n",
    "with open(file_output, \"w\") as txt_file:\n",
    "    txt_file.write(output)"
   ]
  }
 ],
 "metadata": {
  "kernelspec": {
   "display_name": "Python 3 (ipykernel)",
   "language": "python",
   "name": "python3"
  },
  "language_info": {
   "codemirror_mode": {
    "name": "ipython",
    "version": 3
   },
   "file_extension": ".py",
   "mimetype": "text/x-python",
   "name": "python",
   "nbconvert_exporter": "python",
   "pygments_lexer": "ipython3",
   "version": "3.11.7"
  }
 },
 "nbformat": 4,
 "nbformat_minor": 5
}
