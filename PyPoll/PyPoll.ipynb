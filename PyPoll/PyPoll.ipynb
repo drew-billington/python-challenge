{
 "cells": [
  {
   "cell_type": "code",
   "execution_count": 35,
   "id": "a0f67e23-8903-45f1-9998-90682d3139fc",
   "metadata": {},
   "outputs": [],
   "source": [
    "#dependencies\n",
    "import os\n",
    "import csv"
   ]
  },
  {
   "cell_type": "code",
   "execution_count": 37,
   "id": "d89c9145-d1c7-4524-b9ed-81b85503286d",
   "metadata": {},
   "outputs": [
    {
     "name": "stdout",
     "output_type": "stream",
     "text": [
      "Election Results\n",
      "-----------------------------\n",
      "Total Votes: 369711\n",
      "-----------------------------\n",
      "Charles Casper Stockham:  23.0%  (85213)\n",
      "Diana DeGette:  73.8%  (272892)\n",
      "Raymon Anthony Doane:  3.1%  (11606)\n",
      "-----------------------------\n",
      "Winner: Diana DeGette\n",
      "-----------------------------\n",
      "\n"
     ]
    }
   ],
   "source": [
    "#file load\n",
    "csvpath = os.path.join('.','Resources','election_data.csv')\n",
    "\n",
    "#dependencies / baselines\n",
    "total_votes = 0\n",
    "ccs_total = 0\n",
    "dd_total = 0\n",
    "rad_total = 0\n",
    "\n",
    "with open(csvpath) as csvfile:\n",
    "    csvreader = csv.reader(csvfile, delimiter=',')\n",
    "    header = next(csvreader)\n",
    "    # print(csvreader)\n",
    "    for row in csvreader:\n",
    "        # print(row)\n",
    "\n",
    "        #total votes\n",
    "        total_votes += 1    \n",
    "\n",
    "        #totals by candidate\n",
    "        if row[2] == \"Charles Casper Stockham\":\n",
    "            ccs_total += 1\n",
    "        elif row[2] == \"Diana DeGette\":\n",
    "            dd_total += 1\n",
    "        else:\n",
    "            rad_total += 1\n",
    "\n",
    "        #percent of total votes by candidate\n",
    "        ccs_percent = round( ccs_total / total_votes * 100 , 1)\n",
    "        dd_percent = round( dd_total / total_votes * 100 , 1)\n",
    "        rad_percent = round( rad_total / total_votes * 100 , 1)\n",
    "\n",
    "#winner\n",
    "if ccs_percent > (dd_percent or rad_percent):\n",
    "    winner = \"Charles Casper Stockham\"\n",
    "elif dd_percent > (ccs_percent or rad_percent):\n",
    "    winner = \"Diana DeGette\"\n",
    "else:\n",
    "    winner = \"Raymon Anthony Doane\"\n",
    "\n",
    "#output = use variable 'output' with f strings; use '\\n' suffix within quotes to delineate next line...\n",
    "output = (\n",
    "f\"Election Results\\n\"\n",
    "f\"-----------------------------\\n\"\n",
    "f\"Total Votes: {total_votes}\\n\"\n",
    "f\"-----------------------------\\n\"\n",
    "f\"Charles Casper Stockham:  {ccs_percent}%  ({ccs_total})\\n\"\n",
    "f\"Diana DeGette:  {dd_percent}%  ({dd_total})\\n\"\n",
    "f\"Raymon Anthony Doane:  {rad_percent}%  ({rad_total})\\n\"\n",
    "f\"-----------------------------\\n\"\n",
    "f\"Winner: {winner}\\n\"\n",
    "f\"-----------------------------\\n\"\n",
    ")\n",
    "\n",
    "print(output)"
   ]
  },
  {
   "cell_type": "code",
   "execution_count": 39,
   "id": "be454af8-d110-4f5b-b94c-346442e6d488",
   "metadata": {},
   "outputs": [],
   "source": [
    "#export to file\n",
    "file_output = os.path.join(\".\",\"analysis\",\"election_results.txt\")\n",
    "with open(file_output, \"w\") as txt_file:\n",
    "    txt_file.write(output)"
   ]
  },
  {
   "cell_type": "code",
   "execution_count": null,
   "id": "24e0d0f1-4ea9-4b4e-84b9-0d5ece527c12",
   "metadata": {},
   "outputs": [],
   "source": []
  }
 ],
 "metadata": {
  "kernelspec": {
   "display_name": "Python 3 (ipykernel)",
   "language": "python",
   "name": "python3"
  },
  "language_info": {
   "codemirror_mode": {
    "name": "ipython",
    "version": 3
   },
   "file_extension": ".py",
   "mimetype": "text/x-python",
   "name": "python",
   "nbconvert_exporter": "python",
   "pygments_lexer": "ipython3",
   "version": "3.11.7"
  }
 },
 "nbformat": 4,
 "nbformat_minor": 5
}
