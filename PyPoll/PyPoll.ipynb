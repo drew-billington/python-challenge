{
 "cells": [
  {
   "cell_type": "code",
   "execution_count": 1,
   "id": "a0f67e23-8903-45f1-9998-90682d3139fc",
   "metadata": {},
   "outputs": [],
   "source": [
    "#dependencies\n",
    "import os\n",
    "import csv"
   ]
  },
  {
   "cell_type": "code",
   "execution_count": 19,
   "id": "d89c9145-d1c7-4524-b9ed-81b85503286d",
   "metadata": {},
   "outputs": [
    {
     "name": "stdout",
     "output_type": "stream",
     "text": [
      "Election Results\n",
      "-----------------------------\n",
      "Total Votes: 1\n",
      "-----------------------------\n",
      "Charles Casper Stockham:  1  1\n",
      "Diana DeGette:  1  1\n",
      "Raymon Anthony Doane:  1  1\n",
      "-----------------------------\n",
      "Winner: 1\n",
      "-----------------------------\n",
      "\n"
     ]
    }
   ],
   "source": [
    "#file load\n",
    "csvpath = os.path.join('.','Resources','election_data.csv')\n",
    "\n",
    "with open(csvpath) as csvfile:\n",
    "    csvreader = csv.reader(csvfile, delimiter=',')\n",
    "    # print(csvreader)\n",
    "    # for row in csvreader:\n",
    "    #     print(row)\n",
    "\n",
    "\n",
    "\n",
    "total_votes = 1\n",
    "ccs_percent = 1\n",
    "ccs_total = 1\n",
    "dd_percent = 1\n",
    "dd_total = 1\n",
    "rad_percent = 1\n",
    "rad_total = 1\n",
    "winner = 1\n",
    "\n",
    "#output = use variable 'output' with f strings; use '\\n' suffix within quotes to delineate next line...\n",
    "output = (\n",
    "f\"Election Results\\n\"\n",
    "f\"-----------------------------\\n\"\n",
    "f\"Total Votes: {total_votes}\\n\"\n",
    "f\"-----------------------------\\n\"\n",
    "f\"Charles Casper Stockham:  {ccs_percent}  {ccs_total}\\n\"\n",
    "f\"Diana DeGette:  {dd_percent}  {dd_total}\\n\"\n",
    "f\"Raymon Anthony Doane:  {rad_percent}  {rad_total}\\n\"\n",
    "f\"-----------------------------\\n\"\n",
    "f\"Winner: {winner}\\n\"\n",
    "f\"-----------------------------\\n\"\n",
    ")\n",
    "\n",
    "print(output)"
   ]
  },
  {
   "cell_type": "code",
   "execution_count": null,
   "id": "be454af8-d110-4f5b-b94c-346442e6d488",
   "metadata": {},
   "outputs": [],
   "source": [
    "#export to file\n",
    "file_output = os.path.join(\".\",\"analysis\",\"budget_analysis.txt\")\n",
    "with open(file_output, \"w\") as txt_file:\n",
    "    txt_file.write(output)"
   ]
  }
 ],
 "metadata": {
  "kernelspec": {
   "display_name": "Python 3 (ipykernel)",
   "language": "python",
   "name": "python3"
  },
  "language_info": {
   "codemirror_mode": {
    "name": "ipython",
    "version": 3
   },
   "file_extension": ".py",
   "mimetype": "text/x-python",
   "name": "python",
   "nbconvert_exporter": "python",
   "pygments_lexer": "ipython3",
   "version": "3.11.7"
  }
 },
 "nbformat": 4,
 "nbformat_minor": 5
}
